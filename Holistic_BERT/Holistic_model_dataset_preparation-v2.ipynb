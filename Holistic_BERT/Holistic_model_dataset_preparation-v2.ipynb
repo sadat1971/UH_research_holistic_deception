{
 "cells": [
  {
   "cell_type": "markdown",
   "metadata": {},
   "source": [
    "## Deception Detection"
   ]
  },
  {
   "cell_type": "code",
   "execution_count": 1,
   "metadata": {},
   "outputs": [],
   "source": [
    "import pandas as pd\n",
    "import numpy as np\n",
    "import os\n",
    "import pickle as pkl"
   ]
  },
  {
   "cell_type": "markdown",
   "metadata": {},
   "source": [
    "Few stuffs: \n",
    "\n",
    "The label: **\"is_deception\"**\n",
    "\n",
    "1 --> yes, that's deception\n",
    "\n",
    "0 --> No, not deception. "
   ]
  },
  {
   "cell_type": "code",
   "execution_count": 101,
   "metadata": {},
   "outputs": [],
   "source": [
    "def process_dataset_and_save_pkl(df, text=\"text\", label=\"label\", \n",
    "                                 group=\"None\", subgroup=\"None\", \n",
    "                                 saved_data_folder=\"/disk2/sadat/FakeNewsData/Holistic_v2/\", random_state=100):\n",
    "    \n",
    "    '''This function will create the 10% data for test cases. \n",
    "    ****Important**** It is only for those datasets, that doesnt specify a test or validation set\n",
    "    \n",
    "    text: The name of the text field. \n",
    "    label: The name of the label field\n",
    "    group: Name of the dataset it belongs to\n",
    "    subgroup: If there's a multiple source in the dataset, it accounts for that\n",
    "    '''\n",
    "    \n",
    "    \n",
    "    df_train = df.sample(frac=0.9, random_state=random_state)\n",
    "    df_test = df.drop(df_train.index)\n",
    "    df_train[\"group\"] = df_test[\"group\"] = group\n",
    "    df_train[\"subgroup\"] = df_test[\"subgroup\"]  = subgroup\n",
    "    df_train.rename(columns={text: \"text\", label: \"is_deception\"}, inplace=True)\n",
    "    df_test.rename(columns={text: \"text\", label: \"is_deception\"}, inplace=True)\n",
    "    Name_train = saved_data_folder + \"train_\" + group + \"_\" + subgroup + \".pkl\"\n",
    "    Name_test = saved_data_folder + \"test_\" + group + \"_\" + subgroup + \".pkl\"\n",
    "    df_train.to_pickle(Name_train)\n",
    "    df_test.to_pickle(Name_test)\n",
    "    return df_train, df_test   "
   ]
  },
  {
   "cell_type": "code",
   "execution_count": 87,
   "metadata": {},
   "outputs": [],
   "source": [
    "def rename_and_save_pkl(df_train, df_test, text=\"text\", label=\"label\", \n",
    "                                 group=\"None\", subgroup=\"None\", \n",
    "                                 saved_data_folder=\"/disk2/sadat/FakeNewsData/Holistic_v2/\"):\n",
    "    \n",
    "    '''\n",
    "    This function will take in the preprocessed train and test data, rename their name and save the pickle.\n",
    "    ****Improtant**** If you donot have dataset-defined train/val/test data, donot use it.\n",
    "    \n",
    "    df_train: The train data provided with the dataset\n",
    "    df_test: The test data provided with the dataset\n",
    "    text: The name of the text field. \n",
    "    label: The name of the label field\n",
    "    group: Name of the dataset it belongs to\n",
    "    subgroup: If there's a multiple source in the dataset, it accounts for that\n",
    "    '''\n",
    "    \n",
    "    df_train[\"group\"] = df_test[\"group\"] = group\n",
    "    df_train[\"subgroup\"] = df_test[\"subgroup\"]  = subgroup\n",
    "    df_train.rename(columns={text: \"text\", label: \"is_deception\"}, inplace=True)\n",
    "    df_test.rename(columns={text: \"text\", label: \"is_deception\"}, inplace=True)\n",
    "    Name_train = saved_data_folder + \"train_\" + group + \"_\" + subgroup + \".pkl\"\n",
    "    Name_test = saved_data_folder + \"test_\" + group + \"_\" + subgroup + \".pkl\"\n",
    "    df_train.to_pickle(Name_train)\n",
    "    df_test.to_pickle(Name_test)\n",
    "    return df_train, df_test   "
   ]
  },
  {
   "cell_type": "markdown",
   "metadata": {},
   "source": [
    "## Dataset category 1.1: AAAI--COVID-19"
   ]
  },
  {
   "cell_type": "code",
   "execution_count": 70,
   "metadata": {},
   "outputs": [
    {
     "data": {
      "text/plain": [
       "['Constraint_English_Train - Sheet1.csv',\n",
       " 'Constraint_English_Val.csv',\n",
       " 'COVID Fake News Data.csv']"
      ]
     },
     "execution_count": 70,
     "metadata": {},
     "output_type": "execute_result"
    }
   ],
   "source": [
    "path = \"/disk2/sadat/FakeNewsData/COVID19/\"\n",
    "os.listdir(path)"
   ]
  },
  {
   "cell_type": "code",
   "execution_count": 81,
   "metadata": {},
   "outputs": [
    {
     "data": {
      "text/html": [
       "<div>\n",
       "<style scoped>\n",
       "    .dataframe tbody tr th:only-of-type {\n",
       "        vertical-align: middle;\n",
       "    }\n",
       "\n",
       "    .dataframe tbody tr th {\n",
       "        vertical-align: top;\n",
       "    }\n",
       "\n",
       "    .dataframe thead th {\n",
       "        text-align: right;\n",
       "    }\n",
       "</style>\n",
       "<table border=\"1\" class=\"dataframe\">\n",
       "  <thead>\n",
       "    <tr style=\"text-align: right;\">\n",
       "      <th></th>\n",
       "      <th>id</th>\n",
       "      <th>tweet</th>\n",
       "      <th>label</th>\n",
       "    </tr>\n",
       "  </thead>\n",
       "  <tbody>\n",
       "    <tr>\n",
       "      <th>0</th>\n",
       "      <td>1</td>\n",
       "      <td>The CDC currently reports 99031 deaths. In gen...</td>\n",
       "      <td>real</td>\n",
       "    </tr>\n",
       "    <tr>\n",
       "      <th>1</th>\n",
       "      <td>2</td>\n",
       "      <td>States reported 1121 deaths a small rise from ...</td>\n",
       "      <td>real</td>\n",
       "    </tr>\n",
       "    <tr>\n",
       "      <th>2</th>\n",
       "      <td>3</td>\n",
       "      <td>Politically Correct Woman (Almost) Uses Pandem...</td>\n",
       "      <td>fake</td>\n",
       "    </tr>\n",
       "    <tr>\n",
       "      <th>3</th>\n",
       "      <td>4</td>\n",
       "      <td>#IndiaFightsCorona: We have 1524 #COVID testin...</td>\n",
       "      <td>real</td>\n",
       "    </tr>\n",
       "    <tr>\n",
       "      <th>4</th>\n",
       "      <td>5</td>\n",
       "      <td>Populous states can generate large case counts...</td>\n",
       "      <td>real</td>\n",
       "    </tr>\n",
       "  </tbody>\n",
       "</table>\n",
       "</div>"
      ],
      "text/plain": [
       "   id                                              tweet label\n",
       "0   1  The CDC currently reports 99031 deaths. In gen...  real\n",
       "1   2  States reported 1121 deaths a small rise from ...  real\n",
       "2   3  Politically Correct Woman (Almost) Uses Pandem...  fake\n",
       "3   4  #IndiaFightsCorona: We have 1524 #COVID testin...  real\n",
       "4   5  Populous states can generate large case counts...  real"
      ]
     },
     "execution_count": 81,
     "metadata": {},
     "output_type": "execute_result"
    }
   ],
   "source": [
    "AAAI_COVID_train = pd.read_csv(path + \"Constraint_English_Train - Sheet1.csv\")\n",
    "AAAI_COVID_train.head()"
   ]
  },
  {
   "cell_type": "code",
   "execution_count": 82,
   "metadata": {},
   "outputs": [
    {
     "data": {
      "text/html": [
       "<div>\n",
       "<style scoped>\n",
       "    .dataframe tbody tr th:only-of-type {\n",
       "        vertical-align: middle;\n",
       "    }\n",
       "\n",
       "    .dataframe tbody tr th {\n",
       "        vertical-align: top;\n",
       "    }\n",
       "\n",
       "    .dataframe thead th {\n",
       "        text-align: right;\n",
       "    }\n",
       "</style>\n",
       "<table border=\"1\" class=\"dataframe\">\n",
       "  <thead>\n",
       "    <tr style=\"text-align: right;\">\n",
       "      <th></th>\n",
       "      <th>id</th>\n",
       "      <th>tweet</th>\n",
       "      <th>label</th>\n",
       "    </tr>\n",
       "  </thead>\n",
       "  <tbody>\n",
       "    <tr>\n",
       "      <th>0</th>\n",
       "      <td>1</td>\n",
       "      <td>Chinese converting to Islam after realising th...</td>\n",
       "      <td>fake</td>\n",
       "    </tr>\n",
       "    <tr>\n",
       "      <th>1</th>\n",
       "      <td>2</td>\n",
       "      <td>11 out of 13 people (from the Diamond Princess...</td>\n",
       "      <td>fake</td>\n",
       "    </tr>\n",
       "    <tr>\n",
       "      <th>2</th>\n",
       "      <td>3</td>\n",
       "      <td>COVID-19 Is Caused By A Bacterium, Not Virus A...</td>\n",
       "      <td>fake</td>\n",
       "    </tr>\n",
       "    <tr>\n",
       "      <th>3</th>\n",
       "      <td>4</td>\n",
       "      <td>Mike Pence in RNC speech praises Donald Trump’...</td>\n",
       "      <td>fake</td>\n",
       "    </tr>\n",
       "    <tr>\n",
       "      <th>4</th>\n",
       "      <td>5</td>\n",
       "      <td>6/10 Sky's @EdConwaySky explains the latest #C...</td>\n",
       "      <td>real</td>\n",
       "    </tr>\n",
       "  </tbody>\n",
       "</table>\n",
       "</div>"
      ],
      "text/plain": [
       "   id                                              tweet label\n",
       "0   1  Chinese converting to Islam after realising th...  fake\n",
       "1   2  11 out of 13 people (from the Diamond Princess...  fake\n",
       "2   3  COVID-19 Is Caused By A Bacterium, Not Virus A...  fake\n",
       "3   4  Mike Pence in RNC speech praises Donald Trump’...  fake\n",
       "4   5  6/10 Sky's @EdConwaySky explains the latest #C...  real"
      ]
     },
     "execution_count": 82,
     "metadata": {},
     "output_type": "execute_result"
    }
   ],
   "source": [
    "AAAI_COVID_val = pd.read_csv(path + \"Constraint_English_Val.csv\")\n",
    "AAAI_COVID_val.head()"
   ]
  },
  {
   "cell_type": "code",
   "execution_count": 83,
   "metadata": {},
   "outputs": [
    {
     "name": "stdout",
     "output_type": "stream",
     "text": [
      "AAAI_COVID_train shape is: (6420, 3)\n",
      "AAAI_COVID_val shape is: (2140, 3)\n"
     ]
    }
   ],
   "source": [
    "print(\"AAAI_COVID_train shape is: \" + str(AAAI_COVID_train.shape))\n",
    "print(\"AAAI_COVID_val shape is: \" + str(AAAI_COVID_val.shape))"
   ]
  },
  {
   "cell_type": "markdown",
   "metadata": {},
   "source": [
    "### We are going to use the val as test set"
   ]
  },
  {
   "cell_type": "code",
   "execution_count": 84,
   "metadata": {},
   "outputs": [],
   "source": [
    "AAAI_COVID_train.label = AAAI_COVID_train.label.apply(lambda x:1 if x==\"fake\" else 0)\n",
    "AAAI_COVID_val.label = AAAI_COVID_val.label.apply(lambda x:1 if x==\"fake\" else 0)"
   ]
  },
  {
   "cell_type": "code",
   "execution_count": 88,
   "metadata": {},
   "outputs": [],
   "source": [
    "train, val = rename_and_save_pkl(AAAI_COVID_train, AAAI_COVID_val, text=\"tweet\", label=\"label\", \n",
    "                                 group=\"COVID\", subgroup=\"AAAI\", \n",
    "                                 saved_data_folder=\"/disk2/sadat/FakeNewsData/Holistic_v2/\")"
   ]
  },
  {
   "cell_type": "markdown",
   "metadata": {},
   "source": [
    "## Dataset category 1.2: zenodo--COVID-19"
   ]
  },
  {
   "cell_type": "code",
   "execution_count": 93,
   "metadata": {},
   "outputs": [],
   "source": [
    "zenodo = pd.read_csv(path + \"COVID Fake News Data.csv\")"
   ]
  },
  {
   "cell_type": "code",
   "execution_count": 94,
   "metadata": {},
   "outputs": [
    {
     "data": {
      "text/plain": [
       "0    9727\n",
       "1     474\n",
       "Name: outcome, dtype: int64"
      ]
     },
     "execution_count": 94,
     "metadata": {},
     "output_type": "execute_result"
    }
   ],
   "source": [
    "zenodo.outcome.value_counts()"
   ]
  },
  {
   "cell_type": "code",
   "execution_count": 95,
   "metadata": {},
   "outputs": [
    {
     "data": {
      "text/html": [
       "<div>\n",
       "<style scoped>\n",
       "    .dataframe tbody tr th:only-of-type {\n",
       "        vertical-align: middle;\n",
       "    }\n",
       "\n",
       "    .dataframe tbody tr th {\n",
       "        vertical-align: top;\n",
       "    }\n",
       "\n",
       "    .dataframe thead th {\n",
       "        text-align: right;\n",
       "    }\n",
       "</style>\n",
       "<table border=\"1\" class=\"dataframe\">\n",
       "  <thead>\n",
       "    <tr style=\"text-align: right;\">\n",
       "      <th></th>\n",
       "      <th>headlines</th>\n",
       "      <th>outcome</th>\n",
       "    </tr>\n",
       "  </thead>\n",
       "  <tbody>\n",
       "    <tr>\n",
       "      <th>0</th>\n",
       "      <td>A post claims compulsory vacination violates t...</td>\n",
       "      <td>0</td>\n",
       "    </tr>\n",
       "    <tr>\n",
       "      <th>1</th>\n",
       "      <td>A photo claims that this person is a doctor wh...</td>\n",
       "      <td>0</td>\n",
       "    </tr>\n",
       "    <tr>\n",
       "      <th>2</th>\n",
       "      <td>Post about a video claims that it is a protest...</td>\n",
       "      <td>0</td>\n",
       "    </tr>\n",
       "    <tr>\n",
       "      <th>3</th>\n",
       "      <td>All deaths by respiratory failure and pneumoni...</td>\n",
       "      <td>0</td>\n",
       "    </tr>\n",
       "    <tr>\n",
       "      <th>4</th>\n",
       "      <td>The dean of the College of Biologists of Euska...</td>\n",
       "      <td>0</td>\n",
       "    </tr>\n",
       "  </tbody>\n",
       "</table>\n",
       "</div>"
      ],
      "text/plain": [
       "                                           headlines  outcome\n",
       "0  A post claims compulsory vacination violates t...        0\n",
       "1  A photo claims that this person is a doctor wh...        0\n",
       "2  Post about a video claims that it is a protest...        0\n",
       "3  All deaths by respiratory failure and pneumoni...        0\n",
       "4  The dean of the College of Biologists of Euska...        0"
      ]
     },
     "execution_count": 95,
     "metadata": {},
     "output_type": "execute_result"
    }
   ],
   "source": [
    "zenodo.head()"
   ]
  },
  {
   "cell_type": "code",
   "execution_count": 96,
   "metadata": {},
   "outputs": [],
   "source": [
    "zenodo[\"outcome\"] = zenodo.outcome.apply(lambda x:1 if x==0 else 0)"
   ]
  },
  {
   "cell_type": "code",
   "execution_count": 102,
   "metadata": {
    "scrolled": true
   },
   "outputs": [],
   "source": [
    "zenodo_train, zenodo_test = process_dataset_and_save_pkl(zenodo, text=\"headlines\", label=\"outcome\", \n",
    "                                 group=\"COVID\", subgroup=\"zenodo\", \n",
    "                                 saved_data_folder=\"/disk2/sadat/FakeNewsData/Holistic_v2/\", random_state=100)"
   ]
  },
  {
   "cell_type": "markdown",
   "metadata": {},
   "source": [
    "## Dataset category 2.1: FakeNewsNet--politifact\n"
   ]
  },
  {
   "cell_type": "code",
   "execution_count": 104,
   "metadata": {},
   "outputs": [],
   "source": [
    "path = \"/disk2/sadat/FakeNewsData/FakeNewsNet/\""
   ]
  },
  {
   "cell_type": "code",
   "execution_count": 112,
   "metadata": {},
   "outputs": [],
   "source": [
    "def read_process_FakeNewsNet_data(path, source=None):\n",
    "    source_real = pd.read_csv(path + source + \"_real.csv\")\n",
    "    source_real[\"label\"] = 0\n",
    "    source_fake = pd.read_csv(path + source + \"_fake.csv\")\n",
    "    source_fake[\"label\"] = 1\n",
    "    df = pd.concat([source_real, source_fake], axis=0)\n",
    "    df.reset_index(drop=True, inplace=True)\n",
    "    return df"
   ]
  },
  {
   "cell_type": "code",
   "execution_count": 113,
   "metadata": {},
   "outputs": [],
   "source": [
    "politifact = read_process_FakeNewsNet_data(path, source=\"politifact\")"
   ]
  },
  {
   "cell_type": "code",
   "execution_count": 114,
   "metadata": {},
   "outputs": [
    {
     "data": {
      "text/plain": [
       "0    624\n",
       "1    432\n",
       "Name: label, dtype: int64"
      ]
     },
     "execution_count": 114,
     "metadata": {},
     "output_type": "execute_result"
    }
   ],
   "source": [
    "politifact.label.value_counts()"
   ]
  },
  {
   "cell_type": "code",
   "execution_count": 115,
   "metadata": {},
   "outputs": [
    {
     "data": {
      "text/html": [
       "<div>\n",
       "<style scoped>\n",
       "    .dataframe tbody tr th:only-of-type {\n",
       "        vertical-align: middle;\n",
       "    }\n",
       "\n",
       "    .dataframe tbody tr th {\n",
       "        vertical-align: top;\n",
       "    }\n",
       "\n",
       "    .dataframe thead th {\n",
       "        text-align: right;\n",
       "    }\n",
       "</style>\n",
       "<table border=\"1\" class=\"dataframe\">\n",
       "  <thead>\n",
       "    <tr style=\"text-align: right;\">\n",
       "      <th></th>\n",
       "      <th>id</th>\n",
       "      <th>news_url</th>\n",
       "      <th>title</th>\n",
       "      <th>tweet_ids</th>\n",
       "      <th>label</th>\n",
       "    </tr>\n",
       "  </thead>\n",
       "  <tbody>\n",
       "    <tr>\n",
       "      <th>0</th>\n",
       "      <td>politifact14984</td>\n",
       "      <td>http://www.nfib-sbet.org/</td>\n",
       "      <td>National Federation of Independent Business</td>\n",
       "      <td>967132259869487105\\t967164368768196609\\t967215...</td>\n",
       "      <td>0</td>\n",
       "    </tr>\n",
       "    <tr>\n",
       "      <th>1</th>\n",
       "      <td>politifact12944</td>\n",
       "      <td>http://www.cq.com/doc/newsmakertranscripts-494...</td>\n",
       "      <td>comments in Fayetteville NC</td>\n",
       "      <td>942953459\\t8980098198\\t16253717352\\t1668513250...</td>\n",
       "      <td>0</td>\n",
       "    </tr>\n",
       "    <tr>\n",
       "      <th>2</th>\n",
       "      <td>politifact333</td>\n",
       "      <td>https://web.archive.org/web/20080204072132/htt...</td>\n",
       "      <td>Romney makes pitch, hoping to close deal : Ele...</td>\n",
       "      <td>NaN</td>\n",
       "      <td>0</td>\n",
       "    </tr>\n",
       "    <tr>\n",
       "      <th>3</th>\n",
       "      <td>politifact4358</td>\n",
       "      <td>https://web.archive.org/web/20110811143753/htt...</td>\n",
       "      <td>Democratic Leaders Say House Democrats Are Uni...</td>\n",
       "      <td>NaN</td>\n",
       "      <td>0</td>\n",
       "    </tr>\n",
       "    <tr>\n",
       "      <th>4</th>\n",
       "      <td>politifact779</td>\n",
       "      <td>https://web.archive.org/web/20070820164107/htt...</td>\n",
       "      <td>Budget of the United States Government, FY 2008</td>\n",
       "      <td>89804710374154240\\t91270460595109888\\t96039619...</td>\n",
       "      <td>0</td>\n",
       "    </tr>\n",
       "  </tbody>\n",
       "</table>\n",
       "</div>"
      ],
      "text/plain": [
       "                id                                           news_url  \\\n",
       "0  politifact14984                          http://www.nfib-sbet.org/   \n",
       "1  politifact12944  http://www.cq.com/doc/newsmakertranscripts-494...   \n",
       "2    politifact333  https://web.archive.org/web/20080204072132/htt...   \n",
       "3   politifact4358  https://web.archive.org/web/20110811143753/htt...   \n",
       "4    politifact779  https://web.archive.org/web/20070820164107/htt...   \n",
       "\n",
       "                                               title  \\\n",
       "0        National Federation of Independent Business   \n",
       "1                        comments in Fayetteville NC   \n",
       "2  Romney makes pitch, hoping to close deal : Ele...   \n",
       "3  Democratic Leaders Say House Democrats Are Uni...   \n",
       "4    Budget of the United States Government, FY 2008   \n",
       "\n",
       "                                           tweet_ids  label  \n",
       "0  967132259869487105\\t967164368768196609\\t967215...      0  \n",
       "1  942953459\\t8980098198\\t16253717352\\t1668513250...      0  \n",
       "2                                                NaN      0  \n",
       "3                                                NaN      0  \n",
       "4  89804710374154240\\t91270460595109888\\t96039619...      0  "
      ]
     },
     "execution_count": 115,
     "metadata": {},
     "output_type": "execute_result"
    }
   ],
   "source": [
    "politifact.head()"
   ]
  },
  {
   "cell_type": "code",
   "execution_count": 116,
   "metadata": {},
   "outputs": [],
   "source": [
    "poli_train, poli_test = process_dataset_and_save_pkl(politifact, text=\"title\", label=\"label\", \n",
    "                                 group=\"FakeNewsNet\", subgroup=\"Politifact\", \n",
    "                                 saved_data_folder=\"/disk2/sadat/FakeNewsData/Holistic_v2/\", random_state=100)"
   ]
  },
  {
   "cell_type": "markdown",
   "metadata": {},
   "source": [
    "## Dataset category 2.2: FakeNewsNet--Gossipcop\n"
   ]
  },
  {
   "cell_type": "code",
   "execution_count": 118,
   "metadata": {},
   "outputs": [],
   "source": [
    "gossipcop = read_process_FakeNewsNet_data(path, source=\"gossipcop\")"
   ]
  },
  {
   "cell_type": "code",
   "execution_count": 119,
   "metadata": {},
   "outputs": [
    {
     "data": {
      "text/html": [
       "<div>\n",
       "<style scoped>\n",
       "    .dataframe tbody tr th:only-of-type {\n",
       "        vertical-align: middle;\n",
       "    }\n",
       "\n",
       "    .dataframe tbody tr th {\n",
       "        vertical-align: top;\n",
       "    }\n",
       "\n",
       "    .dataframe thead th {\n",
       "        text-align: right;\n",
       "    }\n",
       "</style>\n",
       "<table border=\"1\" class=\"dataframe\">\n",
       "  <thead>\n",
       "    <tr style=\"text-align: right;\">\n",
       "      <th></th>\n",
       "      <th>id</th>\n",
       "      <th>news_url</th>\n",
       "      <th>title</th>\n",
       "      <th>tweet_ids</th>\n",
       "      <th>label</th>\n",
       "    </tr>\n",
       "  </thead>\n",
       "  <tbody>\n",
       "    <tr>\n",
       "      <th>0</th>\n",
       "      <td>gossipcop-882573</td>\n",
       "      <td>https://www.brides.com/story/teen-mom-jenelle-...</td>\n",
       "      <td>Teen Mom Star Jenelle Evans' Wedding Dress Is ...</td>\n",
       "      <td>912371411146149888\\t912371528343408641\\t912372...</td>\n",
       "      <td>0</td>\n",
       "    </tr>\n",
       "    <tr>\n",
       "      <th>1</th>\n",
       "      <td>gossipcop-875924</td>\n",
       "      <td>https://www.dailymail.co.uk/tvshowbiz/article-...</td>\n",
       "      <td>Kylie Jenner refusing to discuss Tyga on Life ...</td>\n",
       "      <td>901989917546426369\\t901989992074969089\\t901990...</td>\n",
       "      <td>0</td>\n",
       "    </tr>\n",
       "    <tr>\n",
       "      <th>2</th>\n",
       "      <td>gossipcop-894416</td>\n",
       "      <td>https://en.wikipedia.org/wiki/Quinn_Perkins</td>\n",
       "      <td>Quinn Perkins</td>\n",
       "      <td>931263637246881792\\t931265332022579201\\t931265...</td>\n",
       "      <td>0</td>\n",
       "    </tr>\n",
       "    <tr>\n",
       "      <th>3</th>\n",
       "      <td>gossipcop-857248</td>\n",
       "      <td>https://www.refinery29.com/en-us/2018/03/19192...</td>\n",
       "      <td>I Tried Kim Kardashian's Butt Workout &amp; Am For...</td>\n",
       "      <td>868114761723936769\\t868122567910936576\\t868128...</td>\n",
       "      <td>0</td>\n",
       "    </tr>\n",
       "    <tr>\n",
       "      <th>4</th>\n",
       "      <td>gossipcop-884684</td>\n",
       "      <td>https://www.cnn.com/2017/10/04/entertainment/c...</td>\n",
       "      <td>Celine Dion donates concert proceeds to Vegas ...</td>\n",
       "      <td>915528047004209152\\t915529285171122176\\t915530...</td>\n",
       "      <td>0</td>\n",
       "    </tr>\n",
       "  </tbody>\n",
       "</table>\n",
       "</div>"
      ],
      "text/plain": [
       "                 id                                           news_url  \\\n",
       "0  gossipcop-882573  https://www.brides.com/story/teen-mom-jenelle-...   \n",
       "1  gossipcop-875924  https://www.dailymail.co.uk/tvshowbiz/article-...   \n",
       "2  gossipcop-894416        https://en.wikipedia.org/wiki/Quinn_Perkins   \n",
       "3  gossipcop-857248  https://www.refinery29.com/en-us/2018/03/19192...   \n",
       "4  gossipcop-884684  https://www.cnn.com/2017/10/04/entertainment/c...   \n",
       "\n",
       "                                               title  \\\n",
       "0  Teen Mom Star Jenelle Evans' Wedding Dress Is ...   \n",
       "1  Kylie Jenner refusing to discuss Tyga on Life ...   \n",
       "2                                      Quinn Perkins   \n",
       "3  I Tried Kim Kardashian's Butt Workout & Am For...   \n",
       "4  Celine Dion donates concert proceeds to Vegas ...   \n",
       "\n",
       "                                           tweet_ids  label  \n",
       "0  912371411146149888\\t912371528343408641\\t912372...      0  \n",
       "1  901989917546426369\\t901989992074969089\\t901990...      0  \n",
       "2  931263637246881792\\t931265332022579201\\t931265...      0  \n",
       "3  868114761723936769\\t868122567910936576\\t868128...      0  \n",
       "4  915528047004209152\\t915529285171122176\\t915530...      0  "
      ]
     },
     "execution_count": 119,
     "metadata": {},
     "output_type": "execute_result"
    }
   ],
   "source": [
    "gossipcop.head()"
   ]
  },
  {
   "cell_type": "code",
   "execution_count": 121,
   "metadata": {},
   "outputs": [
    {
     "data": {
      "text/plain": [
       "(22140, 5)"
      ]
     },
     "execution_count": 121,
     "metadata": {},
     "output_type": "execute_result"
    }
   ],
   "source": [
    "gossipcop.shape"
   ]
  },
  {
   "cell_type": "code",
   "execution_count": 122,
   "metadata": {},
   "outputs": [
    {
     "data": {
      "text/plain": [
       "0    16817\n",
       "1     5323\n",
       "Name: label, dtype: int64"
      ]
     },
     "execution_count": 122,
     "metadata": {},
     "output_type": "execute_result"
    }
   ],
   "source": [
    "gossipcop.label.value_counts()"
   ]
  },
  {
   "cell_type": "code",
   "execution_count": 120,
   "metadata": {},
   "outputs": [],
   "source": [
    "gos_train, gos_test = process_dataset_and_save_pkl(gossipcop, text=\"title\", label=\"label\", \n",
    "                                 group=\"FakeNewsNet\", subgroup=\"gossipcop\", \n",
    "                                 saved_data_folder=\"/disk2/sadat/FakeNewsData/Holistic_v2/\", random_state=100)"
   ]
  },
  {
   "cell_type": "markdown",
   "metadata": {},
   "source": [
    "## Dataset category 3.1: EMNLP_2017: newsfiles\n"
   ]
  },
  {
   "cell_type": "code",
   "execution_count": 150,
   "metadata": {},
   "outputs": [],
   "source": [
    "path = \"/disk2/sadat/FakeNewsData/FakeNewsNet/\""
   ]
  },
  {
   "cell_type": "code",
   "execution_count": 151,
   "metadata": {},
   "outputs": [],
   "source": [
    "newsfiles_full = pd.read_csv(\"/disk2/sadat/FakeNewsData/newsfiles/pubreleasednewsfiles/full.csv\", names=[\"label\", \"text\"], header=None)"
   ]
  },
  {
   "cell_type": "code",
   "execution_count": 152,
   "metadata": {},
   "outputs": [
    {
     "data": {
      "text/plain": [
       "(38859, 2)"
      ]
     },
     "execution_count": 152,
     "metadata": {},
     "output_type": "execute_result"
    }
   ],
   "source": [
    "newsfiles_full.shape"
   ]
  },
  {
   "cell_type": "code",
   "execution_count": 153,
   "metadata": {},
   "outputs": [
    {
     "data": {
      "text/html": [
       "<div>\n",
       "<style scoped>\n",
       "    .dataframe tbody tr th:only-of-type {\n",
       "        vertical-align: middle;\n",
       "    }\n",
       "\n",
       "    .dataframe tbody tr th {\n",
       "        vertical-align: top;\n",
       "    }\n",
       "\n",
       "    .dataframe thead th {\n",
       "        text-align: right;\n",
       "    }\n",
       "</style>\n",
       "<table border=\"1\" class=\"dataframe\">\n",
       "  <thead>\n",
       "    <tr style=\"text-align: right;\">\n",
       "      <th></th>\n",
       "      <th>label</th>\n",
       "      <th>text</th>\n",
       "    </tr>\n",
       "  </thead>\n",
       "  <tbody>\n",
       "    <tr>\n",
       "      <th>0</th>\n",
       "      <td>1</td>\n",
       "      <td>A little less than a decade ago, hockey fans w...</td>\n",
       "    </tr>\n",
       "    <tr>\n",
       "      <th>1</th>\n",
       "      <td>1</td>\n",
       "      <td>The writers of the HBO series The Sopranos too...</td>\n",
       "    </tr>\n",
       "    <tr>\n",
       "      <th>2</th>\n",
       "      <td>1</td>\n",
       "      <td>Despite claims from the TV news outlet to offe...</td>\n",
       "    </tr>\n",
       "    <tr>\n",
       "      <th>3</th>\n",
       "      <td>1</td>\n",
       "      <td>After receiving 'subpar' service and experienc...</td>\n",
       "    </tr>\n",
       "    <tr>\n",
       "      <th>4</th>\n",
       "      <td>1</td>\n",
       "      <td>After watching his beloved Seattle Mariners pr...</td>\n",
       "    </tr>\n",
       "  </tbody>\n",
       "</table>\n",
       "</div>"
      ],
      "text/plain": [
       "   label                                               text\n",
       "0      1  A little less than a decade ago, hockey fans w...\n",
       "1      1  The writers of the HBO series The Sopranos too...\n",
       "2      1  Despite claims from the TV news outlet to offe...\n",
       "3      1  After receiving 'subpar' service and experienc...\n",
       "4      1  After watching his beloved Seattle Mariners pr..."
      ]
     },
     "execution_count": 153,
     "metadata": {},
     "output_type": "execute_result"
    }
   ],
   "source": [
    "newsfiles_full.head()"
   ]
  },
  {
   "cell_type": "code",
   "execution_count": 154,
   "metadata": {},
   "outputs": [
    {
     "data": {
      "text/plain": [
       "3    17870\n",
       "1    14047\n",
       "2     6942\n",
       "Name: label, dtype: int64"
      ]
     },
     "execution_count": 154,
     "metadata": {},
     "output_type": "execute_result"
    }
   ],
   "source": [
    "newsfiles_full.label.value_counts()"
   ]
  },
  {
   "cell_type": "markdown",
   "metadata": {},
   "source": [
    "Newsfile has the following labels:\n",
    "\n",
    "\n",
    "1 -> Satire\n",
    "\n",
    "2 -> Hoax\n",
    "\n",
    "3 -> Propaganda\n",
    "\n",
    "\n",
    "Since, the satire is entirely created for entiretainment, we will regard it as Non-deceptive. For the hoax and Propaganda, these are strongly deceptive content. However, this time, we will keep the original labels as well for references."
   ]
  },
  {
   "cell_type": "code",
   "execution_count": 155,
   "metadata": {},
   "outputs": [],
   "source": [
    "def newsfile_label_conversion(label):\n",
    "    if label==1:\n",
    "        return 0 #satire is non-deceptive\n",
    "    else:\n",
    "        return 1"
   ]
  },
  {
   "cell_type": "code",
   "execution_count": 156,
   "metadata": {},
   "outputs": [],
   "source": [
    "newsfiles_full[\"is_deception\"] = newsfiles_full.label.apply(lambda x:newsfile_label_conversion(x))"
   ]
  },
  {
   "cell_type": "code",
   "execution_count": 157,
   "metadata": {},
   "outputs": [
    {
     "data": {
      "text/plain": [
       "1    24812\n",
       "0    14047\n",
       "Name: is_deception, dtype: int64"
      ]
     },
     "execution_count": 157,
     "metadata": {},
     "output_type": "execute_result"
    }
   ],
   "source": [
    "newsfiles_full.is_deception.value_counts()"
   ]
  },
  {
   "cell_type": "code",
   "execution_count": 158,
   "metadata": {},
   "outputs": [],
   "source": [
    "nf_train, nf_test = process_dataset_and_save_pkl(newsfiles_full, text=\"text\", label=\"is_deception\", \n",
    "                                 group=\"EMNLP2017\", subgroup=\"Newsfiles\", \n",
    "                                 saved_data_folder=\"/disk2/sadat/FakeNewsData/Holistic_v2/\", random_state=100)"
   ]
  },
  {
   "cell_type": "markdown",
   "metadata": {},
   "source": [
    "## Dataset category 3.2: EMNLP_2017: politifact\n"
   ]
  },
  {
   "cell_type": "code",
   "execution_count": 40,
   "metadata": {},
   "outputs": [],
   "source": [
    "path = \"/media/sadat/SadatExtHDD/FakeNewsData/politifact_data/politifact_data\""
   ]
  },
  {
   "cell_type": "code",
   "execution_count": 162,
   "metadata": {},
   "outputs": [],
   "source": [
    "poli_EMNLP_train = pd.read_csv(\"/disk2/sadat/FakeNewsData/politifact_data/politifact_data/train.csv\", delimiter='\\t')\n",
    "poli_EMNLP_dev = pd.read_csv(\"/disk2/sadat/FakeNewsData/politifact_data/politifact_data/dev.csv\", delimiter='\\t')"
   ]
  },
  {
   "cell_type": "code",
   "execution_count": 163,
   "metadata": {},
   "outputs": [
    {
     "name": "stdout",
     "output_type": "stream",
     "text": [
      "poli_EMNLP_train shape is (2576, 3)\n",
      "poli_EMNLP_dev shape is (712, 3)\n"
     ]
    }
   ],
   "source": [
    "print(\"poli_EMNLP_train shape is \" + str(poli_EMNLP_train.shape))\n",
    "print(\"poli_EMNLP_dev shape is \" + str(poli_EMNLP_dev.shape))"
   ]
  },
  {
   "cell_type": "code",
   "execution_count": 164,
   "metadata": {},
   "outputs": [
    {
     "data": {
      "text/html": [
       "<div>\n",
       "<style scoped>\n",
       "    .dataframe tbody tr th:only-of-type {\n",
       "        vertical-align: middle;\n",
       "    }\n",
       "\n",
       "    .dataframe tbody tr th {\n",
       "        vertical-align: top;\n",
       "    }\n",
       "\n",
       "    .dataframe thead th {\n",
       "        text-align: right;\n",
       "    }\n",
       "</style>\n",
       "<table border=\"1\" class=\"dataframe\">\n",
       "  <thead>\n",
       "    <tr style=\"text-align: right;\">\n",
       "      <th></th>\n",
       "      <th>Speaker</th>\n",
       "      <th>Statement</th>\n",
       "      <th>Rating</th>\n",
       "    </tr>\n",
       "  </thead>\n",
       "  <tbody>\n",
       "    <tr>\n",
       "      <th>0</th>\n",
       "      <td>Peggy Noonan</td>\n",
       "      <td>(President) Reagan's second inaugural was move...</td>\n",
       "      <td>1</td>\n",
       "    </tr>\n",
       "    <tr>\n",
       "      <th>1</th>\n",
       "      <td>Florida Consumer Action Network</td>\n",
       "      <td>For what we spend in just one week in Iraq, 80...</td>\n",
       "      <td>1</td>\n",
       "    </tr>\n",
       "    <tr>\n",
       "      <th>2</th>\n",
       "      <td>Roger Williams</td>\n",
       "      <td>The non-partisan Congressional Budget Office c...</td>\n",
       "      <td>3</td>\n",
       "    </tr>\n",
       "    <tr>\n",
       "      <th>3</th>\n",
       "      <td>American Civil Liberties Union of Florida</td>\n",
       "      <td>13,000 Floridians are able to vote -- but thei...</td>\n",
       "      <td>4</td>\n",
       "    </tr>\n",
       "    <tr>\n",
       "      <th>4</th>\n",
       "      <td>Mike Dovilla</td>\n",
       "      <td>Mike Dovillas big ideas like expanding the Ohi...</td>\n",
       "      <td>2</td>\n",
       "    </tr>\n",
       "  </tbody>\n",
       "</table>\n",
       "</div>"
      ],
      "text/plain": [
       "                                     Speaker  \\\n",
       "0                               Peggy Noonan   \n",
       "1            Florida Consumer Action Network   \n",
       "2                             Roger Williams   \n",
       "3  American Civil Liberties Union of Florida   \n",
       "4                               Mike Dovilla   \n",
       "\n",
       "                                           Statement  Rating  \n",
       "0  (President) Reagan's second inaugural was move...       1  \n",
       "1  For what we spend in just one week in Iraq, 80...       1  \n",
       "2  The non-partisan Congressional Budget Office c...       3  \n",
       "3  13,000 Floridians are able to vote -- but thei...       4  \n",
       "4  Mike Dovillas big ideas like expanding the Ohi...       2  "
      ]
     },
     "execution_count": 164,
     "metadata": {},
     "output_type": "execute_result"
    }
   ],
   "source": [
    "poli_EMNLP_dev.head()"
   ]
  },
  {
   "cell_type": "markdown",
   "metadata": {},
   "source": [
    "0 -> True\n",
    "\n",
    "1 -> Mostly True\n",
    "\n",
    "2 -> Half True\n",
    "\n",
    "3 -> Mostly False\n",
    "\n",
    "4 -> False\n",
    "\n",
    "5 -> Pants on fire False\n",
    "\n",
    "\n",
    "There can be debates of which one of them is deceptive and which one are not. However, we go by simple measurements--> If the content is atleast HALF TRUE, it is not deceptive. "
   ]
  },
  {
   "cell_type": "code",
   "execution_count": 166,
   "metadata": {},
   "outputs": [],
   "source": [
    "# We will encode them with either True or False\n",
    "\n",
    "poli_EMNLP_train[\"label\"] = poli_EMNLP_train[\"Rating\"].apply(lambda x:0 if x<=2 else 1)\n",
    "poli_EMNLP_dev[\"label\"] = poli_EMNLP_dev[\"Rating\"].apply(lambda x:0 if x<=2 else 1)"
   ]
  },
  {
   "cell_type": "code",
   "execution_count": 167,
   "metadata": {},
   "outputs": [],
   "source": [
    "poli_train, poli_test = rename_and_save_pkl(poli_EMNLP_train, poli_EMNLP_dev, text=\"Statement\", label=\"label\", \n",
    "                                 group=\"EMNLP2017\", subgroup=\"Politifact\", \n",
    "                                 saved_data_folder=\"/disk2/sadat/FakeNewsData/Holistic_v2/\")"
   ]
  },
  {
   "cell_type": "markdown",
   "metadata": {},
   "source": [
    "## Dataset category 04: LIAR\n"
   ]
  },
  {
   "cell_type": "code",
   "execution_count": 183,
   "metadata": {},
   "outputs": [],
   "source": [
    "Liar_train = pd.read_csv(\"/disk2/sadat/FakeNewsData/liar_dataset/train.tsv\",\n",
    "                         sep=\"\\t\",\n",
    "                         header=None,\n",
    "                         names=[\"ID\", \"label\", \"statement\", \"subject\", \"speaker\", \"speaker's job title\", \"state\",\n",
    "                               \"party_affiliation\", \"crdt_his_barely_true\", \"crdt_his_false\", \"crdt_his_half_true\",\n",
    "                               \"crdt_his_mostly_true\", \"pants_on_fire_count\", \"ctx\"])"
   ]
  },
  {
   "cell_type": "code",
   "execution_count": 184,
   "metadata": {},
   "outputs": [],
   "source": [
    "Liar_valid = pd.read_csv(\"/disk2/sadat/FakeNewsData/liar_dataset/valid.tsv\",\n",
    "                         sep=\"\\t\",\n",
    "                         header=None,\n",
    "                         names=[\"ID\", \"label\", \"statement\", \"subject\", \"speaker\", \"speaker's job title\", \"state\",\n",
    "                               \"party_affiliation\", \"crdt_his_barely_true\", \"crdt_his_false\", \"crdt_his_half_true\",\n",
    "                               \"crdt_his_mostly_true\", \"pants_on_fire_count\", \"ctx\"])"
   ]
  },
  {
   "cell_type": "code",
   "execution_count": 193,
   "metadata": {},
   "outputs": [],
   "source": [
    "Liar_test = pd.read_csv(\"/disk2/sadat/FakeNewsData/liar_dataset/test.tsv\",\n",
    "                         sep=\"\\t\",\n",
    "                         header=None,\n",
    "                         names=[\"ID\", \"label\", \"statement\", \"subject\", \"speaker\", \"speaker's job title\", \"state\",\n",
    "                               \"party_affiliation\", \"crdt_his_barely_true\", \"crdt_his_false\", \"crdt_his_half_true\",\n",
    "                               \"crdt_his_mostly_true\", \"pants_on_fire_count\", \"ctx\"])"
   ]
  },
  {
   "cell_type": "markdown",
   "metadata": {},
   "source": [
    "As we have a seperate test set, we will concatenate train and validation."
   ]
  },
  {
   "cell_type": "code",
   "execution_count": 185,
   "metadata": {},
   "outputs": [],
   "source": [
    "Liar = pd.concat([Liar_train, Liar_valid], axis=0)"
   ]
  },
  {
   "cell_type": "code",
   "execution_count": 186,
   "metadata": {},
   "outputs": [],
   "source": [
    "Liar.reset_index(drop=True, inplace=True)"
   ]
  },
  {
   "cell_type": "code",
   "execution_count": 187,
   "metadata": {},
   "outputs": [
    {
     "data": {
      "text/plain": [
       "(11524, 14)"
      ]
     },
     "execution_count": 187,
     "metadata": {},
     "output_type": "execute_result"
    }
   ],
   "source": [
    "Liar.shape"
   ]
  },
  {
   "cell_type": "code",
   "execution_count": 188,
   "metadata": {},
   "outputs": [
    {
     "data": {
      "text/html": [
       "<div>\n",
       "<style scoped>\n",
       "    .dataframe tbody tr th:only-of-type {\n",
       "        vertical-align: middle;\n",
       "    }\n",
       "\n",
       "    .dataframe tbody tr th {\n",
       "        vertical-align: top;\n",
       "    }\n",
       "\n",
       "    .dataframe thead th {\n",
       "        text-align: right;\n",
       "    }\n",
       "</style>\n",
       "<table border=\"1\" class=\"dataframe\">\n",
       "  <thead>\n",
       "    <tr style=\"text-align: right;\">\n",
       "      <th></th>\n",
       "      <th>ID</th>\n",
       "      <th>label</th>\n",
       "      <th>statement</th>\n",
       "      <th>subject</th>\n",
       "      <th>speaker</th>\n",
       "      <th>speaker's job title</th>\n",
       "      <th>state</th>\n",
       "      <th>party_affiliation</th>\n",
       "      <th>crdt_his_barely_true</th>\n",
       "      <th>crdt_his_false</th>\n",
       "      <th>crdt_his_half_true</th>\n",
       "      <th>crdt_his_mostly_true</th>\n",
       "      <th>pants_on_fire_count</th>\n",
       "      <th>ctx</th>\n",
       "    </tr>\n",
       "  </thead>\n",
       "  <tbody>\n",
       "    <tr>\n",
       "      <th>0</th>\n",
       "      <td>2635.json</td>\n",
       "      <td>false</td>\n",
       "      <td>Says the Annies List political group supports ...</td>\n",
       "      <td>abortion</td>\n",
       "      <td>dwayne-bohac</td>\n",
       "      <td>State representative</td>\n",
       "      <td>Texas</td>\n",
       "      <td>republican</td>\n",
       "      <td>0.0</td>\n",
       "      <td>1.0</td>\n",
       "      <td>0.0</td>\n",
       "      <td>0.0</td>\n",
       "      <td>0.0</td>\n",
       "      <td>a mailer</td>\n",
       "    </tr>\n",
       "    <tr>\n",
       "      <th>1</th>\n",
       "      <td>10540.json</td>\n",
       "      <td>half-true</td>\n",
       "      <td>When did the decline of coal start? It started...</td>\n",
       "      <td>energy,history,job-accomplishments</td>\n",
       "      <td>scott-surovell</td>\n",
       "      <td>State delegate</td>\n",
       "      <td>Virginia</td>\n",
       "      <td>democrat</td>\n",
       "      <td>0.0</td>\n",
       "      <td>0.0</td>\n",
       "      <td>1.0</td>\n",
       "      <td>1.0</td>\n",
       "      <td>0.0</td>\n",
       "      <td>a floor speech.</td>\n",
       "    </tr>\n",
       "  </tbody>\n",
       "</table>\n",
       "</div>"
      ],
      "text/plain": [
       "           ID      label                                          statement  \\\n",
       "0   2635.json      false  Says the Annies List political group supports ...   \n",
       "1  10540.json  half-true  When did the decline of coal start? It started...   \n",
       "\n",
       "                              subject         speaker   speaker's job title  \\\n",
       "0                            abortion    dwayne-bohac  State representative   \n",
       "1  energy,history,job-accomplishments  scott-surovell        State delegate   \n",
       "\n",
       "      state party_affiliation  crdt_his_barely_true  crdt_his_false  \\\n",
       "0     Texas        republican                   0.0             1.0   \n",
       "1  Virginia          democrat                   0.0             0.0   \n",
       "\n",
       "   crdt_his_half_true  crdt_his_mostly_true  pants_on_fire_count  \\\n",
       "0                 0.0                   0.0                  0.0   \n",
       "1                 1.0                   1.0                  0.0   \n",
       "\n",
       "               ctx  \n",
       "0         a mailer  \n",
       "1  a floor speech.  "
      ]
     },
     "execution_count": 188,
     "metadata": {},
     "output_type": "execute_result"
    }
   ],
   "source": [
    "Liar.head(2)"
   ]
  },
  {
   "cell_type": "code",
   "execution_count": 189,
   "metadata": {},
   "outputs": [
    {
     "data": {
      "text/plain": [
       "half-true      2362\n",
       "false          2258\n",
       "mostly-true    2213\n",
       "barely-true    1891\n",
       "true           1845\n",
       "pants-fire      955\n",
       "Name: label, dtype: int64"
      ]
     },
     "execution_count": 189,
     "metadata": {},
     "output_type": "execute_result"
    }
   ],
   "source": [
    "Liar.label.value_counts()"
   ]
  },
  {
   "cell_type": "code",
   "execution_count": 190,
   "metadata": {},
   "outputs": [],
   "source": [
    "def encode_label_to_numeric(label):\n",
    "    if label==\"true\" or label==\"half-true\" or label==\"mostly-true\":\n",
    "        return 0\n",
    "    elif label==\"false\" or label==\"barely-true\" or label==\"pants-fire\":\n",
    "        return 1\n",
    "    else:\n",
    "        return -1"
   ]
  },
  {
   "cell_type": "code",
   "execution_count": 191,
   "metadata": {},
   "outputs": [],
   "source": [
    "Liar[\"is_deception\"] = Liar.label.apply(lambda x:encode_label_to_numeric(x))"
   ]
  },
  {
   "cell_type": "code",
   "execution_count": 194,
   "metadata": {},
   "outputs": [],
   "source": [
    "Liar_test[\"is_deception\"] = Liar.label.apply(lambda x:encode_label_to_numeric(x))"
   ]
  },
  {
   "cell_type": "code",
   "execution_count": 192,
   "metadata": {},
   "outputs": [
    {
     "data": {
      "text/plain": [
       "0    6420\n",
       "1    5104\n",
       "Name: is_deception, dtype: int64"
      ]
     },
     "execution_count": 192,
     "metadata": {},
     "output_type": "execute_result"
    }
   ],
   "source": [
    "Liar.is_deception.value_counts()"
   ]
  },
  {
   "cell_type": "code",
   "execution_count": 195,
   "metadata": {},
   "outputs": [
    {
     "data": {
      "text/plain": [
       "0    716\n",
       "1    551\n",
       "Name: is_deception, dtype: int64"
      ]
     },
     "execution_count": 195,
     "metadata": {},
     "output_type": "execute_result"
    }
   ],
   "source": [
    "Liar_test.is_deception.value_counts()"
   ]
  },
  {
   "cell_type": "code",
   "execution_count": 254,
   "metadata": {},
   "outputs": [],
   "source": [
    "Liar_train, Liar_test = rename_and_save_pkl(Liar, Liar_test, text=\"statement\", label=\"is_deception\", \n",
    "                                 group=\"LIAR\", subgroup=\"None\", \n",
    "                                 saved_data_folder=\"/disk2/sadat/FakeNewsData/Holistic_v2/\")"
   ]
  },
  {
   "cell_type": "code",
   "execution_count": 255,
   "metadata": {},
   "outputs": [
    {
     "data": {
      "text/html": [
       "<div>\n",
       "<style scoped>\n",
       "    .dataframe tbody tr th:only-of-type {\n",
       "        vertical-align: middle;\n",
       "    }\n",
       "\n",
       "    .dataframe tbody tr th {\n",
       "        vertical-align: top;\n",
       "    }\n",
       "\n",
       "    .dataframe thead th {\n",
       "        text-align: right;\n",
       "    }\n",
       "</style>\n",
       "<table border=\"1\" class=\"dataframe\">\n",
       "  <thead>\n",
       "    <tr style=\"text-align: right;\">\n",
       "      <th></th>\n",
       "      <th>ID</th>\n",
       "      <th>label</th>\n",
       "      <th>text</th>\n",
       "      <th>subject</th>\n",
       "      <th>speaker</th>\n",
       "      <th>speaker's job title</th>\n",
       "      <th>state</th>\n",
       "      <th>party_affiliation</th>\n",
       "      <th>crdt_his_barely_true</th>\n",
       "      <th>crdt_his_false</th>\n",
       "      <th>crdt_his_half_true</th>\n",
       "      <th>crdt_his_mostly_true</th>\n",
       "      <th>pants_on_fire_count</th>\n",
       "      <th>ctx</th>\n",
       "      <th>is_deception</th>\n",
       "      <th>group</th>\n",
       "      <th>subgroup</th>\n",
       "    </tr>\n",
       "  </thead>\n",
       "  <tbody>\n",
       "    <tr>\n",
       "      <th>0</th>\n",
       "      <td>2635.json</td>\n",
       "      <td>false</td>\n",
       "      <td>Says the Annies List political group supports ...</td>\n",
       "      <td>abortion</td>\n",
       "      <td>dwayne-bohac</td>\n",
       "      <td>State representative</td>\n",
       "      <td>Texas</td>\n",
       "      <td>republican</td>\n",
       "      <td>0.0</td>\n",
       "      <td>1.0</td>\n",
       "      <td>0.0</td>\n",
       "      <td>0.0</td>\n",
       "      <td>0.0</td>\n",
       "      <td>a mailer</td>\n",
       "      <td>1</td>\n",
       "      <td>LIAR</td>\n",
       "      <td>None</td>\n",
       "    </tr>\n",
       "    <tr>\n",
       "      <th>1</th>\n",
       "      <td>10540.json</td>\n",
       "      <td>half-true</td>\n",
       "      <td>When did the decline of coal start? It started...</td>\n",
       "      <td>energy,history,job-accomplishments</td>\n",
       "      <td>scott-surovell</td>\n",
       "      <td>State delegate</td>\n",
       "      <td>Virginia</td>\n",
       "      <td>democrat</td>\n",
       "      <td>0.0</td>\n",
       "      <td>0.0</td>\n",
       "      <td>1.0</td>\n",
       "      <td>1.0</td>\n",
       "      <td>0.0</td>\n",
       "      <td>a floor speech.</td>\n",
       "      <td>0</td>\n",
       "      <td>LIAR</td>\n",
       "      <td>None</td>\n",
       "    </tr>\n",
       "    <tr>\n",
       "      <th>2</th>\n",
       "      <td>324.json</td>\n",
       "      <td>mostly-true</td>\n",
       "      <td>Hillary Clinton agrees with John McCain \"by vo...</td>\n",
       "      <td>foreign-policy</td>\n",
       "      <td>barack-obama</td>\n",
       "      <td>President</td>\n",
       "      <td>Illinois</td>\n",
       "      <td>democrat</td>\n",
       "      <td>70.0</td>\n",
       "      <td>71.0</td>\n",
       "      <td>160.0</td>\n",
       "      <td>163.0</td>\n",
       "      <td>9.0</td>\n",
       "      <td>Denver</td>\n",
       "      <td>0</td>\n",
       "      <td>LIAR</td>\n",
       "      <td>None</td>\n",
       "    </tr>\n",
       "    <tr>\n",
       "      <th>3</th>\n",
       "      <td>1123.json</td>\n",
       "      <td>false</td>\n",
       "      <td>Health care reform legislation is likely to ma...</td>\n",
       "      <td>health-care</td>\n",
       "      <td>blog-posting</td>\n",
       "      <td>NaN</td>\n",
       "      <td>NaN</td>\n",
       "      <td>none</td>\n",
       "      <td>7.0</td>\n",
       "      <td>19.0</td>\n",
       "      <td>3.0</td>\n",
       "      <td>5.0</td>\n",
       "      <td>44.0</td>\n",
       "      <td>a news release</td>\n",
       "      <td>1</td>\n",
       "      <td>LIAR</td>\n",
       "      <td>None</td>\n",
       "    </tr>\n",
       "    <tr>\n",
       "      <th>4</th>\n",
       "      <td>9028.json</td>\n",
       "      <td>half-true</td>\n",
       "      <td>The economic turnaround started at the end of ...</td>\n",
       "      <td>economy,jobs</td>\n",
       "      <td>charlie-crist</td>\n",
       "      <td>NaN</td>\n",
       "      <td>Florida</td>\n",
       "      <td>democrat</td>\n",
       "      <td>15.0</td>\n",
       "      <td>9.0</td>\n",
       "      <td>20.0</td>\n",
       "      <td>19.0</td>\n",
       "      <td>2.0</td>\n",
       "      <td>an interview on CNN</td>\n",
       "      <td>0</td>\n",
       "      <td>LIAR</td>\n",
       "      <td>None</td>\n",
       "    </tr>\n",
       "  </tbody>\n",
       "</table>\n",
       "</div>"
      ],
      "text/plain": [
       "           ID        label                                               text  \\\n",
       "0   2635.json        false  Says the Annies List political group supports ...   \n",
       "1  10540.json    half-true  When did the decline of coal start? It started...   \n",
       "2    324.json  mostly-true  Hillary Clinton agrees with John McCain \"by vo...   \n",
       "3   1123.json        false  Health care reform legislation is likely to ma...   \n",
       "4   9028.json    half-true  The economic turnaround started at the end of ...   \n",
       "\n",
       "                              subject         speaker   speaker's job title  \\\n",
       "0                            abortion    dwayne-bohac  State representative   \n",
       "1  energy,history,job-accomplishments  scott-surovell        State delegate   \n",
       "2                      foreign-policy    barack-obama             President   \n",
       "3                         health-care    blog-posting                   NaN   \n",
       "4                        economy,jobs   charlie-crist                   NaN   \n",
       "\n",
       "      state party_affiliation  crdt_his_barely_true  crdt_his_false  \\\n",
       "0     Texas        republican                   0.0             1.0   \n",
       "1  Virginia          democrat                   0.0             0.0   \n",
       "2  Illinois          democrat                  70.0            71.0   \n",
       "3       NaN              none                   7.0            19.0   \n",
       "4   Florida          democrat                  15.0             9.0   \n",
       "\n",
       "   crdt_his_half_true  crdt_his_mostly_true  pants_on_fire_count  \\\n",
       "0                 0.0                   0.0                  0.0   \n",
       "1                 1.0                   1.0                  0.0   \n",
       "2               160.0                 163.0                  9.0   \n",
       "3                 3.0                   5.0                 44.0   \n",
       "4                20.0                  19.0                  2.0   \n",
       "\n",
       "                   ctx  is_deception group subgroup  \n",
       "0             a mailer             1  LIAR     None  \n",
       "1      a floor speech.             0  LIAR     None  \n",
       "2               Denver             0  LIAR     None  \n",
       "3       a news release             1  LIAR     None  \n",
       "4  an interview on CNN             0  LIAR     None  "
      ]
     },
     "execution_count": 255,
     "metadata": {},
     "output_type": "execute_result"
    }
   ],
   "source": [
    "Liar_train.head()"
   ]
  },
  {
   "cell_type": "markdown",
   "metadata": {},
   "source": [
    "## Dataset category 05: Hyperpartisan News\n"
   ]
  },
  {
   "cell_type": "code",
   "execution_count": 198,
   "metadata": {},
   "outputs": [],
   "source": [
    "path = \"/disk2/sadat/FakeNewsData/Hyperpartisan_news_2019_semeval/data.csv\"\n",
    "Hyp = pd.read_csv(path)"
   ]
  },
  {
   "cell_type": "code",
   "execution_count": 199,
   "metadata": {},
   "outputs": [
    {
     "data": {
      "text/html": [
       "<div>\n",
       "<style scoped>\n",
       "    .dataframe tbody tr th:only-of-type {\n",
       "        vertical-align: middle;\n",
       "    }\n",
       "\n",
       "    .dataframe tbody tr th {\n",
       "        vertical-align: top;\n",
       "    }\n",
       "\n",
       "    .dataframe thead th {\n",
       "        text-align: right;\n",
       "    }\n",
       "</style>\n",
       "<table border=\"1\" class=\"dataframe\">\n",
       "  <thead>\n",
       "    <tr style=\"text-align: right;\">\n",
       "      <th></th>\n",
       "      <th>Unnamed: 0</th>\n",
       "      <th>date</th>\n",
       "      <th>title</th>\n",
       "      <th>internal</th>\n",
       "      <th>external</th>\n",
       "      <th>article_text</th>\n",
       "      <th>hyperpartisan</th>\n",
       "      <th>labeled-by</th>\n",
       "      <th>url</th>\n",
       "    </tr>\n",
       "  </thead>\n",
       "  <tbody>\n",
       "    <tr>\n",
       "      <th>0</th>\n",
       "      <td>0</td>\n",
       "      <td>2017-09-10</td>\n",
       "      <td>Kucinich: Reclaiming the money power</td>\n",
       "      <td>4</td>\n",
       "      <td>['https://farm8.static.flickr.com/7020/6551534...</td>\n",
       "      <td>from flickr.com: money {mid numberplaceholder}...</td>\n",
       "      <td>True</td>\n",
       "      <td>article</td>\n",
       "      <td>https://www.opednews.com/articles/Kucinich-Rec...</td>\n",
       "    </tr>\n",
       "    <tr>\n",
       "      <th>1</th>\n",
       "      <td>1</td>\n",
       "      <td>2017-10-12</td>\n",
       "      <td>Trump Just Woke Up &amp; Viciously Attacked Puerto...</td>\n",
       "      <td>0</td>\n",
       "      <td>['http://www.cnn.com/2017/03/16/politics/trump...</td>\n",
       "      <td>donald trump ran on many braggadocios and larg...</td>\n",
       "      <td>True</td>\n",
       "      <td>article</td>\n",
       "      <td>http://bipartisanreport.com/2017/10/12/trump-j...</td>\n",
       "    </tr>\n",
       "    <tr>\n",
       "      <th>2</th>\n",
       "      <td>2</td>\n",
       "      <td>2017-10-11</td>\n",
       "      <td>Liberals wailing about gun control, but what a...</td>\n",
       "      <td>0</td>\n",
       "      <td>[]</td>\n",
       "      <td>photo by justin images in response to joyce ne...</td>\n",
       "      <td>True</td>\n",
       "      <td>article</td>\n",
       "      <td>https://www.reviewjournal.com/opinion/letters/...</td>\n",
       "    </tr>\n",
       "    <tr>\n",
       "      <th>3</th>\n",
       "      <td>3</td>\n",
       "      <td>2017-09-24</td>\n",
       "      <td>Laremy Tunsil joins NFL players in kneeling du...</td>\n",
       "      <td>0</td>\n",
       "      <td>['https://twitter.com/UncleChaps/status/911927...</td>\n",
       "      <td>after colin kaepernick rightly chose to kneel ...</td>\n",
       "      <td>True</td>\n",
       "      <td>article</td>\n",
       "      <td>https://www.redcuprebellion.com/2017/9/24/1635...</td>\n",
       "    </tr>\n",
       "    <tr>\n",
       "      <th>4</th>\n",
       "      <td>4</td>\n",
       "      <td>2017-10-12</td>\n",
       "      <td>It's 1968 All Over Again</td>\n",
       "      <td>0</td>\n",
       "      <td>['http://www.nationalreview.com/redirect/amazo...</td>\n",
       "      <td>almost a half century ago, in numberplaceholde...</td>\n",
       "      <td>False</td>\n",
       "      <td>article</td>\n",
       "      <td>https://www.realclearpolitics.com/articles/201...</td>\n",
       "    </tr>\n",
       "  </tbody>\n",
       "</table>\n",
       "</div>"
      ],
      "text/plain": [
       "   Unnamed: 0        date                                              title  \\\n",
       "0           0  2017-09-10               Kucinich: Reclaiming the money power   \n",
       "1           1  2017-10-12  Trump Just Woke Up & Viciously Attacked Puerto...   \n",
       "2           2  2017-10-11  Liberals wailing about gun control, but what a...   \n",
       "3           3  2017-09-24  Laremy Tunsil joins NFL players in kneeling du...   \n",
       "4           4  2017-10-12                           It's 1968 All Over Again   \n",
       "\n",
       "   internal                                           external  \\\n",
       "0         4  ['https://farm8.static.flickr.com/7020/6551534...   \n",
       "1         0  ['http://www.cnn.com/2017/03/16/politics/trump...   \n",
       "2         0                                                 []   \n",
       "3         0  ['https://twitter.com/UncleChaps/status/911927...   \n",
       "4         0  ['http://www.nationalreview.com/redirect/amazo...   \n",
       "\n",
       "                                        article_text  hyperpartisan  \\\n",
       "0  from flickr.com: money {mid numberplaceholder}...           True   \n",
       "1  donald trump ran on many braggadocios and larg...           True   \n",
       "2  photo by justin images in response to joyce ne...           True   \n",
       "3  after colin kaepernick rightly chose to kneel ...           True   \n",
       "4  almost a half century ago, in numberplaceholde...          False   \n",
       "\n",
       "  labeled-by                                                url  \n",
       "0    article  https://www.opednews.com/articles/Kucinich-Rec...  \n",
       "1    article  http://bipartisanreport.com/2017/10/12/trump-j...  \n",
       "2    article  https://www.reviewjournal.com/opinion/letters/...  \n",
       "3    article  https://www.redcuprebellion.com/2017/9/24/1635...  \n",
       "4    article  https://www.realclearpolitics.com/articles/201...  "
      ]
     },
     "execution_count": 199,
     "metadata": {},
     "output_type": "execute_result"
    }
   ],
   "source": [
    "Hyp.head()"
   ]
  },
  {
   "cell_type": "code",
   "execution_count": 200,
   "metadata": {},
   "outputs": [
    {
     "data": {
      "text/plain": [
       "(645, 9)"
      ]
     },
     "execution_count": 200,
     "metadata": {},
     "output_type": "execute_result"
    }
   ],
   "source": [
    "Hyp.shape"
   ]
  },
  {
   "cell_type": "code",
   "execution_count": 201,
   "metadata": {},
   "outputs": [],
   "source": [
    "## Encoding: True means, it is a hyperpartisan text, which means, it is deceptive. False otherwise\n",
    "Hyp['label'] = Hyp['hyperpartisan'].apply(lambda x:1 if x==True else 0)"
   ]
  },
  {
   "cell_type": "markdown",
   "metadata": {},
   "source": [
    "As per our previous analysis, we decide to concatenate the title and full text for our analysis"
   ]
  },
  {
   "cell_type": "code",
   "execution_count": 208,
   "metadata": {},
   "outputs": [],
   "source": [
    "Hyp[\"text\"] = Hyp[\"title\"] + \" \" + Hyp[\"article_text\"]"
   ]
  },
  {
   "cell_type": "code",
   "execution_count": 210,
   "metadata": {},
   "outputs": [
    {
     "data": {
      "text/plain": [
       "0    407\n",
       "1    238\n",
       "Name: label, dtype: int64"
      ]
     },
     "execution_count": 210,
     "metadata": {},
     "output_type": "execute_result"
    }
   ],
   "source": [
    "Hyp.label.value_counts()"
   ]
  },
  {
   "cell_type": "code",
   "execution_count": 211,
   "metadata": {},
   "outputs": [],
   "source": [
    "Hyp_train, Hyp_test = process_dataset_and_save_pkl(Hyp, text=\"text\", label=\"label\", \n",
    "                                 group=\"PAN_Hyperpartisan_News\", subgroup=\"Trained_by_article\", \n",
    "                                 saved_data_folder=\"/disk2/sadat/FakeNewsData/Holistic_v2/\", random_state=100)"
   ]
  },
  {
   "cell_type": "markdown",
   "metadata": {},
   "source": [
    "## Dataset category 06: PHEME  \n"
   ]
  },
  {
   "cell_type": "code",
   "execution_count": 227,
   "metadata": {},
   "outputs": [],
   "source": [
    "rumours = pd.read_pickle(\"/disk2/sadat/FakeNewsData/Metadata/RUMOURS.pickle\")\n",
    "rumours[\"label\"] = 1\n",
    "nonrumours = pd.read_pickle(\"/disk2/sadat/FakeNewsData/Metadata/NON_RUMOURS.pickle\")\n",
    "nonrumours[\"label\"] = 0"
   ]
  },
  {
   "cell_type": "code",
   "execution_count": 240,
   "metadata": {},
   "outputs": [],
   "source": [
    "PHEME = pd.concat([rumours, nonrumours], 0)\n",
    "PHEME = PHEME.sample(frac=1, random_state=100).reset_index(drop=True)"
   ]
  },
  {
   "cell_type": "code",
   "execution_count": 241,
   "metadata": {},
   "outputs": [
    {
     "data": {
      "text/plain": [
       "(6425, 28)"
      ]
     },
     "execution_count": 241,
     "metadata": {},
     "output_type": "execute_result"
    }
   ],
   "source": [
    "PHEME.shape"
   ]
  },
  {
   "cell_type": "code",
   "execution_count": 242,
   "metadata": {},
   "outputs": [
    {
     "data": {
      "text/html": [
       "<div>\n",
       "<style scoped>\n",
       "    .dataframe tbody tr th:only-of-type {\n",
       "        vertical-align: middle;\n",
       "    }\n",
       "\n",
       "    .dataframe tbody tr th {\n",
       "        vertical-align: top;\n",
       "    }\n",
       "\n",
       "    .dataframe thead th {\n",
       "        text-align: right;\n",
       "    }\n",
       "</style>\n",
       "<table border=\"1\" class=\"dataframe\">\n",
       "  <thead>\n",
       "    <tr style=\"text-align: right;\">\n",
       "      <th></th>\n",
       "      <th>contributors</th>\n",
       "      <th>truncated</th>\n",
       "      <th>text</th>\n",
       "      <th>in_reply_to_status_id</th>\n",
       "      <th>id</th>\n",
       "      <th>favorite_count</th>\n",
       "      <th>source</th>\n",
       "      <th>retweeted</th>\n",
       "      <th>coordinates</th>\n",
       "      <th>entities</th>\n",
       "      <th>...</th>\n",
       "      <th>lang</th>\n",
       "      <th>created_at</th>\n",
       "      <th>in_reply_to_status_id_str</th>\n",
       "      <th>place</th>\n",
       "      <th>Event</th>\n",
       "      <th>possibly_sensitive</th>\n",
       "      <th>extended_entities</th>\n",
       "      <th>filter_level</th>\n",
       "      <th>metadata</th>\n",
       "      <th>label</th>\n",
       "    </tr>\n",
       "  </thead>\n",
       "  <tbody>\n",
       "    <tr>\n",
       "      <th>0</th>\n",
       "      <td>NaN</td>\n",
       "      <td>False</td>\n",
       "      <td>After the awful attack on #CharlieHebdo, Franc...</td>\n",
       "      <td>NaN</td>\n",
       "      <td>553490241445965824</td>\n",
       "      <td>116</td>\n",
       "      <td>&lt;a href=\"http://twitter.com\" rel=\"nofollow\"&gt;Tw...</td>\n",
       "      <td>False</td>\n",
       "      <td>NaN</td>\n",
       "      <td>{'user_mentions': [], 'symbols': [], 'trends':...</td>\n",
       "      <td>...</td>\n",
       "      <td>en</td>\n",
       "      <td>2015-01-09 09:55:31+00:00</td>\n",
       "      <td>NaN</td>\n",
       "      <td>NaN</td>\n",
       "      <td>charliehebdo-all-rnr-threads</td>\n",
       "      <td>False</td>\n",
       "      <td>NaN</td>\n",
       "      <td>low</td>\n",
       "      <td>NaN</td>\n",
       "      <td>0</td>\n",
       "    </tr>\n",
       "    <tr>\n",
       "      <th>1</th>\n",
       "      <td>NaN</td>\n",
       "      <td>False</td>\n",
       "      <td>BREAKING: @ottawapolice confirm one death on P...</td>\n",
       "      <td>NaN</td>\n",
       "      <td>524949073154301952</td>\n",
       "      <td>53</td>\n",
       "      <td>&lt;a href=\"http://twitter.com\" rel=\"nofollow\"&gt;Tw...</td>\n",
       "      <td>False</td>\n",
       "      <td>NaN</td>\n",
       "      <td>{'symbols': [], 'user_mentions': [{'id': 23937...</td>\n",
       "      <td>...</td>\n",
       "      <td>en</td>\n",
       "      <td>2014-10-22 15:43:06+00:00</td>\n",
       "      <td>NaN</td>\n",
       "      <td>NaN</td>\n",
       "      <td>ottawashooting-all-rnr-threads</td>\n",
       "      <td>NaN</td>\n",
       "      <td>NaN</td>\n",
       "      <td>NaN</td>\n",
       "      <td>NaN</td>\n",
       "      <td>1</td>\n",
       "    </tr>\n",
       "    <tr>\n",
       "      <th>2</th>\n",
       "      <td>NaN</td>\n",
       "      <td>False</td>\n",
       "      <td>Converts are DISTURBED!!\\nCo-Pilot of #GermanW...</td>\n",
       "      <td>NaN</td>\n",
       "      <td>581295858898989056</td>\n",
       "      <td>11</td>\n",
       "      <td>&lt;a href=\"http://twitter.com/download/android\" ...</td>\n",
       "      <td>False</td>\n",
       "      <td>NaN</td>\n",
       "      <td>{'user_mentions': [], 'symbols': [], 'trends':...</td>\n",
       "      <td>...</td>\n",
       "      <td>en</td>\n",
       "      <td>2015-03-27 03:25:07+00:00</td>\n",
       "      <td>NaN</td>\n",
       "      <td>NaN</td>\n",
       "      <td>germanwings-crash-all-rnr-threads</td>\n",
       "      <td>False</td>\n",
       "      <td>NaN</td>\n",
       "      <td>low</td>\n",
       "      <td>NaN</td>\n",
       "      <td>1</td>\n",
       "    </tr>\n",
       "    <tr>\n",
       "      <th>3</th>\n",
       "      <td>NaN</td>\n",
       "      <td>False</td>\n",
       "      <td>Charlie Hebdo, the magazine that dared to poke...</td>\n",
       "      <td>NaN</td>\n",
       "      <td>552815443959091200</td>\n",
       "      <td>29</td>\n",
       "      <td>&lt;a href=\"https://about.twitter.com/products/tw...</td>\n",
       "      <td>False</td>\n",
       "      <td>NaN</td>\n",
       "      <td>{'symbols': [], 'user_mentions': [], 'hashtags...</td>\n",
       "      <td>...</td>\n",
       "      <td>en</td>\n",
       "      <td>2015-01-07 13:14:07+00:00</td>\n",
       "      <td>NaN</td>\n",
       "      <td>NaN</td>\n",
       "      <td>charliehebdo-all-rnr-threads</td>\n",
       "      <td>False</td>\n",
       "      <td>{'media': [{'expanded_url': 'http://twitter.co...</td>\n",
       "      <td>NaN</td>\n",
       "      <td>NaN</td>\n",
       "      <td>0</td>\n",
       "    </tr>\n",
       "    <tr>\n",
       "      <th>4</th>\n",
       "      <td>NaN</td>\n",
       "      <td>False</td>\n",
       "      <td>White smoke has been spotted above the Kremlin...</td>\n",
       "      <td>NaN</td>\n",
       "      <td>576504635738951680</td>\n",
       "      <td>155</td>\n",
       "      <td>&lt;a href=\"http://twitter.com\" rel=\"nofollow\"&gt;Tw...</td>\n",
       "      <td>False</td>\n",
       "      <td>NaN</td>\n",
       "      <td>{'symbols': [], 'user_mentions': [], 'hashtags...</td>\n",
       "      <td>...</td>\n",
       "      <td>en</td>\n",
       "      <td>2015-03-13 22:06:30+00:00</td>\n",
       "      <td>NaN</td>\n",
       "      <td>NaN</td>\n",
       "      <td>putinmissing-all-rnr-threads</td>\n",
       "      <td>False</td>\n",
       "      <td>{'media': [{'expanded_url': 'http://twitter.co...</td>\n",
       "      <td>NaN</td>\n",
       "      <td>NaN</td>\n",
       "      <td>0</td>\n",
       "    </tr>\n",
       "  </tbody>\n",
       "</table>\n",
       "<p>5 rows × 28 columns</p>\n",
       "</div>"
      ],
      "text/plain": [
       "   contributors  truncated                                               text  \\\n",
       "0           NaN      False  After the awful attack on #CharlieHebdo, Franc...   \n",
       "1           NaN      False  BREAKING: @ottawapolice confirm one death on P...   \n",
       "2           NaN      False  Converts are DISTURBED!!\\nCo-Pilot of #GermanW...   \n",
       "3           NaN      False  Charlie Hebdo, the magazine that dared to poke...   \n",
       "4           NaN      False  White smoke has been spotted above the Kremlin...   \n",
       "\n",
       "   in_reply_to_status_id                  id  favorite_count  \\\n",
       "0                    NaN  553490241445965824             116   \n",
       "1                    NaN  524949073154301952              53   \n",
       "2                    NaN  581295858898989056              11   \n",
       "3                    NaN  552815443959091200              29   \n",
       "4                    NaN  576504635738951680             155   \n",
       "\n",
       "                                              source  retweeted coordinates  \\\n",
       "0  <a href=\"http://twitter.com\" rel=\"nofollow\">Tw...      False         NaN   \n",
       "1  <a href=\"http://twitter.com\" rel=\"nofollow\">Tw...      False         NaN   \n",
       "2  <a href=\"http://twitter.com/download/android\" ...      False         NaN   \n",
       "3  <a href=\"https://about.twitter.com/products/tw...      False         NaN   \n",
       "4  <a href=\"http://twitter.com\" rel=\"nofollow\">Tw...      False         NaN   \n",
       "\n",
       "                                            entities  ... lang  \\\n",
       "0  {'user_mentions': [], 'symbols': [], 'trends':...  ...   en   \n",
       "1  {'symbols': [], 'user_mentions': [{'id': 23937...  ...   en   \n",
       "2  {'user_mentions': [], 'symbols': [], 'trends':...  ...   en   \n",
       "3  {'symbols': [], 'user_mentions': [], 'hashtags...  ...   en   \n",
       "4  {'symbols': [], 'user_mentions': [], 'hashtags...  ...   en   \n",
       "\n",
       "                 created_at  in_reply_to_status_id_str  place  \\\n",
       "0 2015-01-09 09:55:31+00:00                        NaN    NaN   \n",
       "1 2014-10-22 15:43:06+00:00                        NaN    NaN   \n",
       "2 2015-03-27 03:25:07+00:00                        NaN    NaN   \n",
       "3 2015-01-07 13:14:07+00:00                        NaN    NaN   \n",
       "4 2015-03-13 22:06:30+00:00                        NaN    NaN   \n",
       "\n",
       "                               Event possibly_sensitive  \\\n",
       "0       charliehebdo-all-rnr-threads              False   \n",
       "1     ottawashooting-all-rnr-threads                NaN   \n",
       "2  germanwings-crash-all-rnr-threads              False   \n",
       "3       charliehebdo-all-rnr-threads              False   \n",
       "4       putinmissing-all-rnr-threads              False   \n",
       "\n",
       "                                   extended_entities  filter_level metadata  \\\n",
       "0                                                NaN           low      NaN   \n",
       "1                                                NaN           NaN      NaN   \n",
       "2                                                NaN           low      NaN   \n",
       "3  {'media': [{'expanded_url': 'http://twitter.co...           NaN      NaN   \n",
       "4  {'media': [{'expanded_url': 'http://twitter.co...           NaN      NaN   \n",
       "\n",
       "  label  \n",
       "0     0  \n",
       "1     1  \n",
       "2     1  \n",
       "3     0  \n",
       "4     0  \n",
       "\n",
       "[5 rows x 28 columns]"
      ]
     },
     "execution_count": 242,
     "metadata": {},
     "output_type": "execute_result"
    }
   ],
   "source": [
    "PHEME.head()"
   ]
  },
  {
   "cell_type": "code",
   "execution_count": 243,
   "metadata": {},
   "outputs": [
    {
     "data": {
      "text/plain": [
       "0    4023\n",
       "1    2402\n",
       "Name: label, dtype: int64"
      ]
     },
     "execution_count": 243,
     "metadata": {},
     "output_type": "execute_result"
    }
   ],
   "source": [
    "PHEME.label.value_counts()"
   ]
  },
  {
   "cell_type": "code",
   "execution_count": 250,
   "metadata": {},
   "outputs": [],
   "source": [
    "PHEME_train, PHEME_test = process_dataset_and_save_pkl(PHEME, text=\"text\", label=\"label\", \n",
    "                                 group=\"PHEME\", subgroup=\"None\", \n",
    "                                 saved_data_folder=\"/disk2/sadat/FakeNewsData/Holistic_v2/\", random_state=100)"
   ]
  },
  {
   "cell_type": "code",
   "execution_count": 251,
   "metadata": {},
   "outputs": [
    {
     "data": {
      "text/plain": [
       "(5782, 30)"
      ]
     },
     "execution_count": 251,
     "metadata": {},
     "output_type": "execute_result"
    }
   ],
   "source": [
    "PHEME_train.shape"
   ]
  },
  {
   "cell_type": "code",
   "execution_count": 252,
   "metadata": {},
   "outputs": [
    {
     "data": {
      "text/plain": [
       "(643, 30)"
      ]
     },
     "execution_count": 252,
     "metadata": {},
     "output_type": "execute_result"
    }
   ],
   "source": [
    "PHEME_test.shape"
   ]
  },
  {
   "cell_type": "code",
   "execution_count": null,
   "metadata": {},
   "outputs": [],
   "source": []
  }
 ],
 "metadata": {
  "kernelspec": {
   "display_name": "Python 3",
   "language": "python",
   "name": "python3"
  },
  "language_info": {
   "codemirror_mode": {
    "name": "ipython",
    "version": 3
   },
   "file_extension": ".py",
   "mimetype": "text/x-python",
   "name": "python",
   "nbconvert_exporter": "python",
   "pygments_lexer": "ipython3",
   "version": "3.8.5"
  }
 },
 "nbformat": 4,
 "nbformat_minor": 4
}
